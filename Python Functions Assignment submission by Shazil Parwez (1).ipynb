{
 "cells": [
  {
   "cell_type": "code",
   "execution_count": null,
   "metadata": {
    "colab": {
     "base_uri": "https://localhost:8080/"
    },
    "executionInfo": {
     "elapsed": 461,
     "status": "ok",
     "timestamp": 1723357982691,
     "user": {
      "displayName": "Shazil Parwez",
      "userId": "17294264299167245854"
     },
     "user_tz": -330
    },
    "id": "JYunlL_SDWQ_",
    "outputId": "e3c55d14-3f63-40b3-ecb6-8d5dd818f801"
   },
   "outputs": [
    {
     "name": "stdout",
     "output_type": "stream",
     "text": [
      "11\n"
     ]
    }
   ],
   "source": [
    "# 1.What is the difference between a function and a method in Python?\n",
    "\n",
    "#Answer 1:\n",
    "\n",
    "#Functions:-\n",
    "\n",
    "#(1) Function is block of code that is also called by its name. (independent)\n",
    "#(2) The function can have different parameters or may not have any at all. If any data (parameters) are passed, they are passed explicitly.\n",
    "#(3) It may or may not return any data.\n",
    "#(4) Function does not deal with Class and its instance concept.\n",
    "\n",
    "#Example:\n",
    "\n",
    "def addition(a, b):\n",
    "    return a + b\n",
    "print(addition(6, 5))"
   ]
  },
  {
   "cell_type": "code",
   "execution_count": null,
   "metadata": {
    "colab": {
     "base_uri": "https://localhost:8080/"
    },
    "executionInfo": {
     "elapsed": 581,
     "status": "ok",
     "timestamp": 1723371830214,
     "user": {
      "displayName": "Shazil Parwez",
      "userId": "17294264299167245854"
     },
     "user_tz": -330
    },
    "id": "62F7nYNUH9X_",
    "outputId": "12a97c3b-ea9d-4dca-8a84-a3ef2b1db3ed"
   },
   "outputs": [
    {
     "name": "stdout",
     "output_type": "stream",
     "text": [
      "Rex says woof!\n",
      "Rex is 5 years old.\n"
     ]
    }
   ],
   "source": [
    "#Method:-\n",
    "\n",
    "#(1) Method is called by its name, but it is associated to an object (dependent).\n",
    "#(2) A method definition always includes ‘self’ as its first parameter.\n",
    "#(3) A method is implicitly passed to the object on which it is invoked.\n",
    "#(4) It may or may not return any data.\n",
    "#(5) A method can operate on the data (instance variables) that is contained by the corresponding class\n",
    "\n",
    "#Example:\n",
    "\n",
    "class Dog:\n",
    "    def __init__(self, name, age):\n",
    "        self.name = name\n",
    "        self.age = age\n",
    "\n",
    "    def bark(self):\n",
    "        return f\"{self.name} says woof!\"\n",
    "\n",
    "    def get_age(self):\n",
    "        return f\"{self.name} is {self.age} years old.\"\n",
    "my_dog = Dog(name=\"Rex\", age=5)\n",
    "print(my_dog.bark())\n",
    "print(my_dog.get_age())\n"
   ]
  },
  {
   "cell_type": "code",
   "execution_count": null,
   "metadata": {
    "colab": {
     "base_uri": "https://localhost:8080/"
    },
    "executionInfo": {
     "elapsed": 642,
     "status": "ok",
     "timestamp": 1723372268128,
     "user": {
      "displayName": "Shazil Parwez",
      "userId": "17294264299167245854"
     },
     "user_tz": -330
    },
    "id": "-aO4dJC79zZB",
    "outputId": "34e0c36d-e1ad-4e56-a511-e730e434bf1a"
   },
   "outputs": [
    {
     "name": "stdout",
     "output_type": "stream",
     "text": [
      "3\n"
     ]
    }
   ],
   "source": [
    "# 2.Explain the concept of function arguments and parameters in Python?\n",
    "\n",
    "#Answer 2:\n",
    "\n",
    "#Parameters:-\n",
    "\n",
    "# A parameter is the variable defined within the parentheses during function definition. Simply they are written when we declare a function.\n",
    "\n",
    "# Example:\n",
    "\n",
    "def sum(a, b):  # Here a,b are parameters\n",
    "    print(a + b)\n",
    "sum(1, 2)\n"
   ]
  },
  {
   "cell_type": "code",
   "execution_count": null,
   "metadata": {
    "colab": {
     "base_uri": "https://localhost:8080/"
    },
    "executionInfo": {
     "elapsed": 10,
     "status": "ok",
     "timestamp": 1723372268687,
     "user": {
      "displayName": "Shazil Parwez",
      "userId": "17294264299167245854"
     },
     "user_tz": -330
    },
    "id": "N8z5fLTK-z55",
    "outputId": "97e2830d-3ac0-40d4-d1ae-a196ce342712"
   },
   "outputs": [
    {
     "name": "stdout",
     "output_type": "stream",
     "text": [
      "3\n"
     ]
    }
   ],
   "source": [
    "# Arguments:\n",
    "\n",
    "# An argument is a value that is passed to a function when it is called. It might be a variable, value or object passed to a function or method as input. They are written when we are calling the function.\n",
    "\n",
    "#Example :\n",
    "\n",
    "def sum(a,b):\n",
    "  print(a+b)\n",
    "\n",
    "# Here the values 1,2 are arguments\n",
    "sum(1,2)\n"
   ]
  },
  {
   "cell_type": "code",
   "execution_count": null,
   "metadata": {
    "colab": {
     "base_uri": "https://localhost:8080/"
    },
    "executionInfo": {
     "elapsed": 640,
     "status": "ok",
     "timestamp": 1723373153605,
     "user": {
      "displayName": "Shazil Parwez",
      "userId": "17294264299167245854"
     },
     "user_tz": -330
    },
    "id": "TyEsZS1n_QeY",
    "outputId": "f8c0fae6-14a3-4755-8f0a-a97b2cc6b686"
   },
   "outputs": [
    {
     "name": "stdout",
     "output_type": "stream",
     "text": [
      "Hello, John!\n"
     ]
    }
   ],
   "source": [
    "# 3.What are the different ways to define and call a function in Python.\n",
    "\n",
    "#Answer 3:\n",
    "\n",
    "# In Python, you can define and call functions in several ways, by using standard functions, lambda functions, and methods within classes.\n",
    "\n",
    "#Examples :\n",
    "\n",
    "# 1.Standard Function:-\n",
    "\n",
    "def greet(name):\n",
    "    return f\"Hello, {name}!\"\n",
    "print(greet(\"John\"))"
   ]
  },
  {
   "cell_type": "code",
   "execution_count": null,
   "metadata": {
    "colab": {
     "base_uri": "https://localhost:8080/"
    },
    "executionInfo": {
     "elapsed": 574,
     "status": "ok",
     "timestamp": 1723372974687,
     "user": {
      "displayName": "Shazil Parwez",
      "userId": "17294264299167245854"
     },
     "user_tz": -330
    },
    "id": "Wp9ToD_gB8SM",
    "outputId": "fd4d2860-fb4b-426f-9d3a-e8b047f21348"
   },
   "outputs": [
    {
     "name": "stdout",
     "output_type": "stream",
     "text": [
      "7\n"
     ]
    }
   ],
   "source": [
    "# 2.Lambda Function (Anonymous Function):-\n",
    "\n",
    "add = lambda x, y: x + y\n",
    "print(add(3, 4))"
   ]
  },
  {
   "cell_type": "code",
   "execution_count": null,
   "metadata": {
    "colab": {
     "base_uri": "https://localhost:8080/"
    },
    "executionInfo": {
     "elapsed": 617,
     "status": "ok",
     "timestamp": 1723373104535,
     "user": {
      "displayName": "Shazil Parwez",
      "userId": "17294264299167245854"
     },
     "user_tz": -330
    },
    "id": "H3V3N_FWCKzq",
    "outputId": "a47a3157-bfb5-4faa-d178-3bdd5e0c81d7"
   },
   "outputs": [
    {
     "name": "stdout",
     "output_type": "stream",
     "text": [
      "7\n"
     ]
    }
   ],
   "source": [
    "# 3.Function Inside a Class (Method):-\n",
    "\n",
    "class Calculator:\n",
    "    def __init__(self, a, b):\n",
    "        self.a = a\n",
    "        self.b = b\n",
    "\n",
    "    def add(self):\n",
    "        return self.a + self.b\n",
    "\n",
    "calculator = Calculator(3, 4)\n",
    "print(calculator.add())"
   ]
  },
  {
   "cell_type": "code",
   "execution_count": null,
   "metadata": {
    "colab": {
     "base_uri": "https://localhost:8080/"
    },
    "executionInfo": {
     "elapsed": 557,
     "status": "ok",
     "timestamp": 1723373680836,
     "user": {
      "displayName": "Shazil Parwez",
      "userId": "17294264299167245854"
     },
     "user_tz": -330
    },
    "id": "DW0CuGeqCghA",
    "outputId": "6f60c56f-5445-4087-b76a-a464a9813f1d"
   },
   "outputs": [
    {
     "name": "stdout",
     "output_type": "stream",
     "text": [
      "25\n"
     ]
    }
   ],
   "source": [
    "# 5.Higher-Order Function (Function that Takes Other Functions as Arguments):-\n",
    "\n",
    "def apply_function(func, value):\n",
    "    return func(value)\n",
    "\n",
    "def square(n):\n",
    "    return n * n\n",
    "print(apply_function(square, 5))\n"
   ]
  },
  {
   "cell_type": "code",
   "execution_count": null,
   "metadata": {
    "colab": {
     "base_uri": "https://localhost:8080/"
    },
    "executionInfo": {
     "elapsed": 590,
     "status": "ok",
     "timestamp": 1723374374285,
     "user": {
      "displayName": "Shazil Parwez",
      "userId": "17294264299167245854"
     },
     "user_tz": -330
    },
    "id": "y1odCZZTE3Nc",
    "outputId": "b5d93cbc-5e02-4434-9b29-c6edcf942e2f"
   },
   "outputs": [
    {
     "name": "stdout",
     "output_type": "stream",
     "text": [
      "9\n"
     ]
    }
   ],
   "source": [
    "# 4.What is the purpose of the 'return' statement in a Python function?\n",
    "\n",
    "#Answer 4:\n",
    "\n",
    "# The 'return' statement in a Python function is used to specify the value that the function should return when it is called.\n",
    "# The statements after the return statements are not executed. If the return statement is without any expression, then the special value None is returned. A return statement is overall used to invoke a function so that the passed statements can be executed.\n",
    "\n",
    "#Example :\n",
    "\n",
    "#Return a Value:\n",
    "\n",
    "def add(x, y):\n",
    "    return x + y\n",
    "\n",
    "result = add(6, 3)\n",
    "print(result)\n"
   ]
  },
  {
   "cell_type": "code",
   "execution_count": null,
   "metadata": {
    "colab": {
     "base_uri": "https://localhost:8080/"
    },
    "executionInfo": {
     "elapsed": 765,
     "status": "ok",
     "timestamp": 1723374670141,
     "user": {
      "displayName": "Shazil Parwez",
      "userId": "17294264299167245854"
     },
     "user_tz": -330
    },
    "id": "qLw6ABQ_HggD",
    "outputId": "d162744a-daa8-4672-a8fc-2143f047a49b"
   },
   "outputs": [
    {
     "name": "stdout",
     "output_type": "stream",
     "text": [
      "None\n"
     ]
    }
   ],
   "source": [
    "# Returning No Value (Implicit None)\n",
    "\n",
    "def no_return():\n",
    "    pass\n",
    "\n",
    "result = no_return()\n",
    "print(result)\n"
   ]
  },
  {
   "cell_type": "code",
   "execution_count": null,
   "metadata": {
    "colab": {
     "base_uri": "https://localhost:8080/"
    },
    "executionInfo": {
     "elapsed": 570,
     "status": "ok",
     "timestamp": 1723377026481,
     "user": {
      "displayName": "Shazil Parwez",
      "userId": "17294264299167245854"
     },
     "user_tz": -330
    },
    "id": "OqZqx_BFIorX",
    "outputId": "c0d2a741-d3a6-422b-c7c5-4fe267fb8b8a"
   },
   "outputs": [
    {
     "name": "stdout",
     "output_type": "stream",
     "text": [
      "1\n",
      "2\n",
      "3\n",
      "4\n",
      "5\n"
     ]
    }
   ],
   "source": [
    "# 5.What are iterators in Python and how do they differ from iterables?\n",
    "\n",
    "#Answer 5:\n",
    "\n",
    "# Iterable is an object, that one can iterate over. It generates an Iterator when passed to iter() method.\n",
    "\n",
    "# An iterator is an object, which is used to iterate over an iterable object using the __next__() method. Iterators have the __next__() method, which returns the next item of the object.\n",
    "\n",
    "# Note: Every iterator is also an iterable, but not every iterable is an iterator in Python.\n",
    "\n",
    "# For example, a list is iterable but a list is not an iterator. An iterator can be created from an iterable by using the function iter(). To make this possible, the class of an object needs either a method __iter__, which returns an iterator, or a __getitem__ method with sequential indexes starting with 0.\n",
    "\n",
    "# Examples of Iterables:\n",
    "\n",
    "# List:\n",
    "\n",
    "my_list = [1, 2, 3, 4, 5]\n",
    "for item in my_list:\n",
    "    print(item)"
   ]
  },
  {
   "cell_type": "code",
   "execution_count": null,
   "metadata": {
    "colab": {
     "base_uri": "https://localhost:8080/"
    },
    "executionInfo": {
     "elapsed": 588,
     "status": "ok",
     "timestamp": 1723377047902,
     "user": {
      "displayName": "Shazil Parwez",
      "userId": "17294264299167245854"
     },
     "user_tz": -330
    },
    "id": "_e0GZgomRoAZ",
    "outputId": "3733e970-0ba4-4e10-e20c-d301b3b996b3"
   },
   "outputs": [
    {
     "name": "stdout",
     "output_type": "stream",
     "text": [
      "1\n",
      "2\n",
      "3\n",
      "4\n",
      "5\n"
     ]
    }
   ],
   "source": [
    "# Tuples:\n",
    "\n",
    "my_tuple = (1, 2, 3, 4, 5)\n",
    "for item in my_tuple:\n",
    "    print(item)"
   ]
  },
  {
   "cell_type": "code",
   "execution_count": null,
   "metadata": {
    "colab": {
     "base_uri": "https://localhost:8080/"
    },
    "executionInfo": {
     "elapsed": 551,
     "status": "ok",
     "timestamp": 1723377090318,
     "user": {
      "displayName": "Shazil Parwez",
      "userId": "17294264299167245854"
     },
     "user_tz": -330
    },
    "id": "T_NHgV2uRtPt",
    "outputId": "1472b7fc-1344-4a62-be03-5fc709cc5082"
   },
   "outputs": [
    {
     "name": "stdout",
     "output_type": "stream",
     "text": [
      "a 1\n",
      "b 2\n",
      "c 3\n"
     ]
    }
   ],
   "source": [
    "# Dictionaries:\n",
    "\n",
    "my_dict = {'a': 1, 'b': 2, 'c': 3}\n",
    "for key, value in my_dict.items():\n",
    "    print(key, value)"
   ]
  },
  {
   "cell_type": "code",
   "execution_count": null,
   "metadata": {
    "colab": {
     "base_uri": "https://localhost:8080/"
    },
    "executionInfo": {
     "elapsed": 714,
     "status": "ok",
     "timestamp": 1723377102287,
     "user": {
      "displayName": "Shazil Parwez",
      "userId": "17294264299167245854"
     },
     "user_tz": -330
    },
    "id": "lJQGi9kXR3nR",
    "outputId": "b2a33fe1-d9f8-4859-c529-b3d7dd9a550d"
   },
   "outputs": [
    {
     "name": "stdout",
     "output_type": "stream",
     "text": [
      "1\n",
      "2\n",
      "3\n",
      "4\n",
      "5\n"
     ]
    }
   ],
   "source": [
    "# Sets:\n",
    "\n",
    "my_set = {1, 2, 3, 4, 5}\n",
    "for item in my_set:\n",
    "    print(item)"
   ]
  },
  {
   "cell_type": "code",
   "execution_count": null,
   "metadata": {
    "colab": {
     "base_uri": "https://localhost:8080/"
    },
    "executionInfo": {
     "elapsed": 708,
     "status": "ok",
     "timestamp": 1723377112460,
     "user": {
      "displayName": "Shazil Parwez",
      "userId": "17294264299167245854"
     },
     "user_tz": -330
    },
    "id": "riQdhdnVR6fj",
    "outputId": "c16eb4d1-08be-4b94-c1f0-b2b72aca34c1"
   },
   "outputs": [
    {
     "name": "stdout",
     "output_type": "stream",
     "text": [
      "H\n",
      "e\n",
      "l\n",
      "l\n",
      "o\n",
      ",\n",
      " \n",
      "W\n",
      "o\n",
      "r\n",
      "l\n",
      "d\n",
      "!\n"
     ]
    }
   ],
   "source": [
    "# Strings:\n",
    "\n",
    "my_string = \"Hello, World!\"\n",
    "for char in my_string:\n",
    "    print(char)\n",
    "#"
   ]
  },
  {
   "cell_type": "code",
   "execution_count": null,
   "metadata": {
    "colab": {
     "base_uri": "https://localhost:8080/"
    },
    "executionInfo": {
     "elapsed": 566,
     "status": "ok",
     "timestamp": 1723377184676,
     "user": {
      "displayName": "Shazil Parwez",
      "userId": "17294264299167245854"
     },
     "user_tz": -330
    },
    "id": "bnUYWx0uR8-k",
    "outputId": "9146e183-2bf2-4bf3-d3b2-4aafe0d5fa1f"
   },
   "outputs": [
    {
     "name": "stdout",
     "output_type": "stream",
     "text": [
      "1\n",
      "2\n",
      "3\n"
     ]
    }
   ],
   "source": [
    "#Example of an Iterator:\n",
    "\n",
    "class MyIterator:\n",
    "    def __init__(self, data):\n",
    "        self.data = data\n",
    "        self.index = 0\n",
    "\n",
    "    def __iter__(self):\n",
    "        return self\n",
    "\n",
    "    def __next__(self):\n",
    "        if self.index < len(self.data):\n",
    "            result = self.data[self.index]\n",
    "            self.index += 1\n",
    "            return result\n",
    "        else:\n",
    "            raise StopIteration\n",
    "\n",
    "iterator = MyIterator([1, 2, 3])\n",
    "for value in iterator:\n",
    "    print(value)\n"
   ]
  },
  {
   "cell_type": "code",
   "execution_count": null,
   "metadata": {
    "id": "pBP9Q9L-SOnQ"
   },
   "outputs": [],
   "source": [
    "# 6.Explain the concept of generators in Python and how they are defined.\n",
    "\n",
    "# #Answer 6:\n",
    "\n",
    "# A generator function in Python is defined like a normal function, but whenever it needs to generate a value, it does so with the yield keyword rather than return. If the body of a def contains yield, the function automatically becomes a Python generator function.\n",
    "\n",
    "#Examples :\n",
    "\n",
    "def fib(n):\n",
    "    a = 0\n",
    "    b = 1\n",
    "    for i in range(n): #if n=5, 0, 1, 2, 3, 4\n",
    "        yield a\n",
    "        a, b = b, a+b"
   ]
  },
  {
   "cell_type": "code",
   "execution_count": null,
   "metadata": {
    "id": "zyPOz7SvWIRq"
   },
   "outputs": [],
   "source": [
    "f = fib(10)"
   ]
  },
  {
   "cell_type": "code",
   "execution_count": null,
   "metadata": {
    "colab": {
     "base_uri": "https://localhost:8080/"
    },
    "executionInfo": {
     "elapsed": 595,
     "status": "ok",
     "timestamp": 1723378399067,
     "user": {
      "displayName": "Shazil Parwez",
      "userId": "17294264299167245854"
     },
     "user_tz": -330
    },
    "id": "Bl_I8LouW0DC",
    "outputId": "ba97d15c-b53d-4669-c6b1-e7b3a73e0b4b"
   },
   "outputs": [
    {
     "data": {
      "text/plain": [
       "0"
      ]
     },
     "execution_count": 60,
     "metadata": {},
     "output_type": "execute_result"
    }
   ],
   "source": [
    "next(f)"
   ]
  },
  {
   "cell_type": "code",
   "execution_count": null,
   "metadata": {
    "colab": {
     "base_uri": "https://localhost:8080/"
    },
    "executionInfo": {
     "elapsed": 591,
     "status": "ok",
     "timestamp": 1723378440005,
     "user": {
      "displayName": "Shazil Parwez",
      "userId": "17294264299167245854"
     },
     "user_tz": -330
    },
    "id": "T8xl6e5HW3HO",
    "outputId": "31b1a676-2681-4faa-c287-f038fa310673"
   },
   "outputs": [
    {
     "data": {
      "text/plain": [
       "1"
      ]
     },
     "execution_count": 65,
     "metadata": {},
     "output_type": "execute_result"
    }
   ],
   "source": [
    "next(f)"
   ]
  },
  {
   "cell_type": "code",
   "execution_count": null,
   "metadata": {
    "colab": {
     "base_uri": "https://localhost:8080/"
    },
    "executionInfo": {
     "elapsed": 547,
     "status": "ok",
     "timestamp": 1723378446955,
     "user": {
      "displayName": "Shazil Parwez",
      "userId": "17294264299167245854"
     },
     "user_tz": -330
    },
    "id": "N47QVP-BW5vD",
    "outputId": "ad4de5a7-a9e0-419f-f5b3-75af14750aff"
   },
   "outputs": [
    {
     "data": {
      "text/plain": [
       "1"
      ]
     },
     "execution_count": 66,
     "metadata": {},
     "output_type": "execute_result"
    }
   ],
   "source": [
    "next(f)"
   ]
  },
  {
   "cell_type": "code",
   "execution_count": null,
   "metadata": {
    "colab": {
     "base_uri": "https://localhost:8080/"
    },
    "executionInfo": {
     "elapsed": 565,
     "status": "ok",
     "timestamp": 1723378456166,
     "user": {
      "displayName": "Shazil Parwez",
      "userId": "17294264299167245854"
     },
     "user_tz": -330
    },
    "id": "4-hf0XPmXCzb",
    "outputId": "ff323f37-95d0-4c3d-c7b5-fe7157c1e6f3"
   },
   "outputs": [
    {
     "data": {
      "text/plain": [
       "2"
      ]
     },
     "execution_count": 67,
     "metadata": {},
     "output_type": "execute_result"
    }
   ],
   "source": [
    "next(f)"
   ]
  },
  {
   "cell_type": "code",
   "execution_count": null,
   "metadata": {
    "colab": {
     "base_uri": "https://localhost:8080/"
    },
    "executionInfo": {
     "elapsed": 564,
     "status": "ok",
     "timestamp": 1723530293586,
     "user": {
      "displayName": "Shazil Parwez",
      "userId": "17294264299167245854"
     },
     "user_tz": -330
    },
    "id": "ml9lDtL3TnEq",
    "outputId": "2b2e5f91-0e91-489d-b4d9-56dfacd91907"
   },
   "outputs": [
    {
     "name": "stdout",
     "output_type": "stream",
     "text": [
      "0\n",
      "1\n",
      "2\n",
      "3\n",
      "4\n",
      "5\n"
     ]
    }
   ],
   "source": [
    "# 7.What are the advantages of using generators over regular functions?\n",
    "\n",
    "#Answer 7:\n",
    "\n",
    "# Generators in Python offer several advantages over regular functions, particularly in scenarios involving large datasets, complex iteration, or performance considerations. Here’s a detailed breakdown of these advantages:\n",
    "\n",
    "#1.Memory Efficiency:-\n",
    "# Advantage:\n",
    "#Generators are memory-efficient because they produce values one at a time and do not store the entire sequence in memory.\n",
    "\n",
    "# Example:\n",
    "\n",
    "# Generator:\n",
    "def large_range_generator(n):\n",
    "    num = 0\n",
    "    while num < n:\n",
    "        yield num\n",
    "        num += 1\n",
    "\n",
    "for number in large_range_generator(1000000):\n",
    "    if number > 5:  # Process only a few numbers for demonstration\n",
    "        break\n",
    "    print(number)\n"
   ]
  },
  {
   "cell_type": "code",
   "execution_count": null,
   "metadata": {
    "colab": {
     "base_uri": "https://localhost:8080/"
    },
    "executionInfo": {
     "elapsed": 11,
     "status": "ok",
     "timestamp": 1723530295954,
     "user": {
      "displayName": "Shazil Parwez",
      "userId": "17294264299167245854"
     },
     "user_tz": -330
    },
    "id": "iHyGKbFAUPHj",
    "outputId": "04fb3bf0-5a5a-4f8e-fb02-e7da7cd7bdfd"
   },
   "outputs": [
    {
     "name": "stdout",
     "output_type": "stream",
     "text": [
      "[0, 1, 2, 3, 4, 5, 6, 7, 8, 9]\n"
     ]
    }
   ],
   "source": [
    "# Regular Function:\n",
    "def large_range_list(n):\n",
    "    return list(range(n))\n",
    "\n",
    "numbers = large_range_list(1000000) # Creates a list of 1 million numbers\n",
    "print(numbers[:10])  # Print first 10 numbers\n"
   ]
  },
  {
   "cell_type": "code",
   "execution_count": null,
   "metadata": {
    "id": "UrBdsKxJUPjy"
   },
   "outputs": [],
   "source": [
    "#Explanation:\n",
    "\n",
    "#Generator: large_range_generator generates numbers one by one without storing them all in memory, making it suitable for very large ranges.\n",
    "#Regular Function: large_range_list creates a list of all numbers up to n, which requires substantial memory for large n.\n",
    "\n",
    "#2.Performance and Speed:-\n",
    "# Advantage:\n",
    "#Generators can start producing results immediately, which can be faster and more efficient when only a portion of the data is needed or when working with incomplete data.\n",
    "\n",
    "# Example:\n",
    "\n",
    "# Generator:\n",
    "def file_line_reader(file_path):\n",
    "    with open(file_path, 'r') as file:\n",
    "        for line in file:\n",
    "            yield line.strip()\n",
    "\n",
    "for line in file_line_reader('large_file.txt'):\n",
    "    if line.startswith('Error'):\n",
    "        print(line)\n",
    "        break\n",
    "\n",
    "\n",
    "# Regular Function:\n",
    "def read_file_lines(file_path):\n",
    "    with open(file_path, 'r') as file:\n",
    "        return file.readlines()\n",
    "\n",
    "lines = read_file_lines('large_file.txt')\n",
    "for line in lines:\n",
    "    if line.startswith('Error'):\n",
    "        print(line)\n",
    "        break\n",
    "\n",
    "#Explanation:\n",
    "\n",
    "#Generator: file_line_reader processes lines one by one as they are read from the file, making it efficient for large files.\n",
    "#Regular Function: read_file_lines reads the entire file into memory first, which can be slow and memory-intensive.\n"
   ]
  },
  {
   "cell_type": "code",
   "execution_count": null,
   "metadata": {
    "colab": {
     "base_uri": "https://localhost:8080/"
    },
    "executionInfo": {
     "elapsed": 618,
     "status": "ok",
     "timestamp": 1723530346191,
     "user": {
      "displayName": "Shazil Parwez",
      "userId": "17294264299167245854"
     },
     "user_tz": -330
    },
    "id": "nQ_Zil2UUP2P",
    "outputId": "6dd8eaf0-3932-4d15-e40c-2621d3c397a4"
   },
   "outputs": [
    {
     "name": "stdout",
     "output_type": "stream",
     "text": [
      "0\n",
      "1\n",
      "1\n",
      "2\n",
      "3\n"
     ]
    }
   ],
   "source": [
    "#3.Handling Infinite Sequences:-\n",
    "#Advantage:\n",
    "#Generators can handle infinite sequences because they generate values on-demand and do not require storing an infinite number of values.\n",
    "\n",
    "# Example:\n",
    "\n",
    "# Generator:\n",
    "def infinite_fibonacci():\n",
    "    a, b = 0, 1\n",
    "    while True:\n",
    "        yield a\n",
    "        a, b = b, a + b\n",
    "\n",
    "fib_gen = infinite_fibonacci()\n",
    "for _ in range(5):  # Print first 5 Fibonacci numbers\n",
    "    print(next(fib_gen))"
   ]
  },
  {
   "cell_type": "code",
   "execution_count": null,
   "metadata": {
    "colab": {
     "base_uri": "https://localhost:8080/"
    },
    "executionInfo": {
     "elapsed": 545,
     "status": "ok",
     "timestamp": 1723530388961,
     "user": {
      "displayName": "Shazil Parwez",
      "userId": "17294264299167245854"
     },
     "user_tz": -330
    },
    "id": "fVVwMarFUP30",
    "outputId": "987b5834-7e5d-42b5-b3bb-091a85bf8e57"
   },
   "outputs": [
    {
     "name": "stdout",
     "output_type": "stream",
     "text": [
      "[0, 1, 1, 2, 3]\n"
     ]
    }
   ],
   "source": [
    "# Regular Function:\n",
    "\n",
    "# Not feasible to handle an infinite sequence with regular functions\n",
    "def finite_fibonacci(n):\n",
    "    result = []\n",
    "    a, b = 0, 1\n",
    "    while len(result) < n:\n",
    "        result.append(a)\n",
    "        a, b = b, a + b\n",
    "    return result\n",
    "\n",
    "print(finite_fibonacci(5))  # Print first 5 Fibonacci numbers\n"
   ]
  },
  {
   "cell_type": "code",
   "execution_count": null,
   "metadata": {
    "id": "CD_yt-owUP5R"
   },
   "outputs": [],
   "source": [
    "#Explanation:\n",
    "\n",
    "#Generator: infinite_fibonacci can generate Fibonacci numbers indefinitely, as it only computes values when requested.\n",
    "#Regular Function: finite_fibonacci requires a fixed number of computations and storage, which is impractical for infinite sequences."
   ]
  },
  {
   "cell_type": "code",
   "execution_count": null,
   "metadata": {
    "colab": {
     "base_uri": "https://localhost:8080/"
    },
    "executionInfo": {
     "elapsed": 662,
     "status": "ok",
     "timestamp": 1723530600120,
     "user": {
      "displayName": "Shazil Parwez",
      "userId": "17294264299167245854"
     },
     "user_tz": -330
    },
    "id": "mSVl1dS2UP7E",
    "outputId": "6664444b-c563-40e5-d8a3-fa8e5746a3db"
   },
   "outputs": [
    {
     "name": "stdout",
     "output_type": "stream",
     "text": [
      "5\n",
      "4\n",
      "3\n",
      "2\n",
      "1\n"
     ]
    }
   ],
   "source": [
    "#4.Simplified State Management:-\n",
    "#Advantage:\n",
    "#Generators automatically maintain their internal state between yield statements, simplifying complex iteration logic compared to regular functions that require manual state management.\n",
    "\n",
    "# Example:\n",
    "\n",
    "#Generator:\n",
    "def countdown(n):\n",
    "    while n > 0:\n",
    "        yield n\n",
    "        n -= 1\n",
    "\n",
    "for num in countdown(5):\n",
    "    print(num)\n"
   ]
  },
  {
   "cell_type": "code",
   "execution_count": null,
   "metadata": {
    "colab": {
     "base_uri": "https://localhost:8080/"
    },
    "executionInfo": {
     "elapsed": 629,
     "status": "ok",
     "timestamp": 1723530733750,
     "user": {
      "displayName": "Shazil Parwez",
      "userId": "17294264299167245854"
     },
     "user_tz": -330
    },
    "id": "1Et2n29_UP9t",
    "outputId": "899b21ce-b927-476f-fece-7dca16394fa3"
   },
   "outputs": [
    {
     "name": "stdout",
     "output_type": "stream",
     "text": [
      "[5, 4, 3, 2, 1]\n"
     ]
    }
   ],
   "source": [
    "#Regular Function:\n",
    "def countdown_list(n):\n",
    "    result = []\n",
    "    while n > 0:\n",
    "        result.append(n)\n",
    "        n -= 1\n",
    "    return result\n",
    "\n",
    "print(countdown_list(5))\n"
   ]
  },
  {
   "cell_type": "code",
   "execution_count": null,
   "metadata": {
    "id": "88yj9UpzUP_P"
   },
   "outputs": [],
   "source": [
    "#Explanation:\n",
    "\n",
    "#Generator: countdown maintains its state (n) between yields, making it straightforward to implement.\n",
    "#Regular Function: countdown_list constructs the entire list in memory, which is less efficient for large sequences."
   ]
  },
  {
   "cell_type": "code",
   "execution_count": null,
   "metadata": {
    "id": "krqV_cnrb_mK"
   },
   "outputs": [],
   "source": [
    "#5.Convenience with Streams:-\n",
    "#Advantage:\n",
    "#Generators are well-suited for processing data streams where you may not want to load the entire data set into memory.\n",
    "\n",
    "#Example:\n",
    "\n",
    "#Generator:\n",
    "def stream_processor(stream):\n",
    "    for line in stream:\n",
    "        yield line.strip()\n",
    "\n",
    "# Example usage with a file stream\n",
    "with open('large_file.txt', 'r') as file_stream:\n",
    "    for line in stream_processor(file_stream):\n",
    "        if 'important' in line:\n",
    "            print(line)\n",
    "            break\n",
    "\n",
    "#Regular Function:\n",
    "def process_file(file_path):\n",
    "    with open(file_path, 'r') as file:\n",
    "        lines = file.readlines()\n",
    "    return [line.strip() for line in lines]\n",
    "\n",
    "lines = process_file('large_file.txt')\n",
    "for line in lines:\n",
    "    if 'important' in line:\n",
    "        print(line)\n",
    "        break\n",
    "\n",
    "#Explanation:\n",
    "\n",
    "#Generator: stream_processor processes each line as it is read from the stream, allowing efficient processing of large files or continuous data.\n",
    "#Regular Function: process_file reads all lines into memory first, which can be impractical for very large files.\n"
   ]
  },
  {
   "cell_type": "code",
   "execution_count": null,
   "metadata": {
    "colab": {
     "base_uri": "https://localhost:8080/"
    },
    "executionInfo": {
     "elapsed": 577,
     "status": "ok",
     "timestamp": 1723427137685,
     "user": {
      "displayName": "Shazil Parwez",
      "userId": "17294264299167245854"
     },
     "user_tz": -330
    },
    "id": "wIbnHOeyZmmj",
    "outputId": "7e1f6854-482b-4b89-e241-453e85298af2"
   },
   "outputs": [
    {
     "name": "stdout",
     "output_type": "stream",
     "text": [
      "PWSKILLS\n"
     ]
    }
   ],
   "source": [
    "# 8.What is a lambda function in Python and when is it typically used?\n",
    "\n",
    "#Answer 8:\n",
    "\n",
    "#Python Lambda Functions are anonymous functions means that the function is without a name. As we already know the def keyword is used to define a normal function in Python. Similarly, the lambda keyword is used to define an anonymous function in Python.\n",
    "#Lambda functions are efficient whenever you want to create a function that will only contain simple expressions that is, expressions that are usually a single line of a statement.\n",
    "\n",
    "#Examples of lambda function:\n",
    "\n",
    "str1 = \"pwskills\"\n",
    "\n",
    "upper = lambda string: string.upper()\n",
    "print(upper(str1))\n",
    "\n"
   ]
  },
  {
   "cell_type": "code",
   "execution_count": null,
   "metadata": {
    "colab": {
     "base_uri": "https://localhost:8080/"
    },
    "executionInfo": {
     "elapsed": 9,
     "status": "ok",
     "timestamp": 1723427138211,
     "user": {
      "displayName": "Shazil Parwez",
      "userId": "17294264299167245854"
     },
     "user_tz": -330
    },
    "id": "lZxbtjvIPeSE",
    "outputId": "0a52d289-37c3-44a2-e4c3-0679676f78e1"
   },
   "outputs": [
    {
     "name": "stdout",
     "output_type": "stream",
     "text": [
      "10\n",
      "20\n",
      "30\n",
      "40\n"
     ]
    }
   ],
   "source": [
    "is_even_list = [lambda arg=x: arg * 10 for x in range(1, 5)]\n",
    "for item in is_even_list:\n",
    "    print(item())\n"
   ]
  },
  {
   "cell_type": "code",
   "execution_count": null,
   "metadata": {
    "colab": {
     "base_uri": "https://localhost:8080/"
    },
    "executionInfo": {
     "elapsed": 7,
     "status": "ok",
     "timestamp": 1723427138211,
     "user": {
      "displayName": "Shazil Parwez",
      "userId": "17294264299167245854"
     },
     "user_tz": -330
    },
    "id": "llGvXYgmPt4k",
    "outputId": "e6082d93-0c43-4878-8025-91bf21a7e97b"
   },
   "outputs": [
    {
     "name": "stdout",
     "output_type": "stream",
     "text": [
      "2\n"
     ]
    }
   ],
   "source": [
    "Max = lambda a, b : a if(a > b) else b\n",
    "print(Max(1, 2))\n"
   ]
  },
  {
   "cell_type": "code",
   "execution_count": null,
   "metadata": {
    "colab": {
     "base_uri": "https://localhost:8080/"
    },
    "executionInfo": {
     "elapsed": 5,
     "status": "ok",
     "timestamp": 1723427138211,
     "user": {
      "displayName": "Shazil Parwez",
      "userId": "17294264299167245854"
     },
     "user_tz": -330
    },
    "id": "79mUCmJAPxXW",
    "outputId": "473bf573-2358-43ae-baae-b92154801e15"
   },
   "outputs": [
    {
     "data": {
      "text/plain": [
       "8"
      ]
     },
     "execution_count": 12,
     "metadata": {},
     "output_type": "execute_result"
    }
   ],
   "source": [
    "a = lambda x: len(x)\n",
    "a(\"pwskills\")"
   ]
  },
  {
   "cell_type": "code",
   "execution_count": null,
   "metadata": {
    "colab": {
     "base_uri": "https://localhost:8080/"
    },
    "executionInfo": {
     "elapsed": 7,
     "status": "ok",
     "timestamp": 1723427138719,
     "user": {
      "displayName": "Shazil Parwez",
      "userId": "17294264299167245854"
     },
     "user_tz": -330
    },
    "id": "UCN626lTQYDZ",
    "outputId": "a0668463-6942-4c91-9fa5-7d7fbc50df7f"
   },
   "outputs": [
    {
     "data": {
      "text/plain": [
       "[0, 1, 1, 2, 3, 5, 8, 13, 21, 34]"
      ]
     },
     "execution_count": 13,
     "metadata": {},
     "output_type": "execute_result"
    }
   ],
   "source": [
    "fib = lambda n: n if n<=1 else fib(n-1) + fib(n-2)\n",
    "[fib(i) for i in range(10)]"
   ]
  },
  {
   "cell_type": "code",
   "execution_count": null,
   "metadata": {
    "colab": {
     "base_uri": "https://localhost:8080/"
    },
    "executionInfo": {
     "elapsed": 6,
     "status": "ok",
     "timestamp": 1723427138720,
     "user": {
      "displayName": "Shazil Parwez",
      "userId": "17294264299167245854"
     },
     "user_tz": -330
    },
    "id": "Tjaz8BQYQmRv",
    "outputId": "bee34b16-ac8a-4c33-8f10-2dda62a8ebb4"
   },
   "outputs": [
    {
     "data": {
      "text/plain": [
       "120"
      ]
     },
     "execution_count": 14,
     "metadata": {},
     "output_type": "execute_result"
    }
   ],
   "source": [
    "fact_num = lambda n: 1 if n==0 else n*fact_num(n-1)\n",
    "fact_num(5)"
   ]
  },
  {
   "cell_type": "code",
   "execution_count": null,
   "metadata": {
    "colab": {
     "base_uri": "https://localhost:8080/"
    },
    "executionInfo": {
     "elapsed": 489,
     "status": "ok",
     "timestamp": 1723427559836,
     "user": {
      "displayName": "Shazil Parwez",
      "userId": "17294264299167245854"
     },
     "user_tz": -330
    },
    "id": "PhrsuczSQtAp",
    "outputId": "e9231195-5edb-4182-e009-390a223103a4"
   },
   "outputs": [
    {
     "name": "stdout",
     "output_type": "stream",
     "text": [
      "[1, 4, 9, 16, 25]\n"
     ]
    }
   ],
   "source": [
    "# 9.Explain the purpose and usage of the map() function in Python.\n",
    "\n",
    "#Answer 9:\n",
    "\n",
    "# The map() function in Python is a built-in function used for applying a specific function to each item in an iterable (such as a list or tuple) and returning an iterator that produces the results. It's useful for performing a transformation on each element of an iterable without needing to use a loop explicitly.\n",
    "\n",
    "# Purpose:-\n",
    "# Transformation: The primary purpose of map() is to apply a function to each element of an iterable to produce a new iterable with the transformed elements.\n",
    "\n",
    "# Code Conciseness: It helps in writing cleaner and more concise code compared to using a loop for the same operation.\n",
    "\n",
    "\n",
    "# Usage:-\n",
    "# The map() function takes two main arguments:\n",
    "\n",
    "# Function: The function to be applied to each element of the iterable. This can be a built-in function, a user-defined function, or a lambda function.\n",
    "\n",
    "# Iterable: The iterable (e.g., list, tuple) whose elements will be processed by the function.\n",
    "\n",
    "# Example of map() function:\n",
    "\n",
    "numbers = [1, 2, 3, 4, 5]\n",
    "squared = list(map(lambda x: x**2, numbers))\n",
    "print(squared)"
   ]
  },
  {
   "cell_type": "code",
   "execution_count": null,
   "metadata": {
    "colab": {
     "base_uri": "https://localhost:8080/"
    },
    "executionInfo": {
     "elapsed": 510,
     "status": "ok",
     "timestamp": 1723427617354,
     "user": {
      "displayName": "Shazil Parwez",
      "userId": "17294264299167245854"
     },
     "user_tz": -330
    },
    "id": "yb3tZYgeQ5n2",
    "outputId": "42943143-eeda-4170-b536-f92405897076"
   },
   "outputs": [
    {
     "name": "stdout",
     "output_type": "stream",
     "text": [
      "[2, 4, 6, 8, 10]\n"
     ]
    }
   ],
   "source": [
    "numbers = [1, 2, 3, 4, 5]\n",
    "doubled_numbers = map(lambda x: x * 2, numbers)\n",
    "print(list(doubled_numbers))\n"
   ]
  },
  {
   "cell_type": "code",
   "execution_count": null,
   "metadata": {
    "colab": {
     "base_uri": "https://localhost:8080/"
    },
    "executionInfo": {
     "elapsed": 523,
     "status": "ok",
     "timestamp": 1723427682773,
     "user": {
      "displayName": "Shazil Parwez",
      "userId": "17294264299167245854"
     },
     "user_tz": -330
    },
    "id": "lULlU_HiSnV2",
    "outputId": "e7c171da-41dd-423f-8008-816fd0d0f760"
   },
   "outputs": [
    {
     "name": "stdout",
     "output_type": "stream",
     "text": [
      "[5, 7, 9]\n"
     ]
    }
   ],
   "source": [
    "list1 = [1, 2, 3]\n",
    "list2 = [4, 5, 6]\n",
    "result = map(lambda x, y: x + y, list1, list2)\n",
    "print(list(result))\n"
   ]
  },
  {
   "cell_type": "code",
   "execution_count": null,
   "metadata": {
    "colab": {
     "base_uri": "https://localhost:8080/"
    },
    "executionInfo": {
     "elapsed": 610,
     "status": "ok",
     "timestamp": 1723427919427,
     "user": {
      "displayName": "Shazil Parwez",
      "userId": "17294264299167245854"
     },
     "user_tz": -330
    },
    "id": "LHytbrRUS3Tj",
    "outputId": "c1ff7adc-8fd3-4fe6-d068-b73b6dc238cc"
   },
   "outputs": [
    {
     "name": "stdout",
     "output_type": "stream",
     "text": [
      "[1, 4, 9, 16]\n"
     ]
    }
   ],
   "source": [
    "# 10.What is the difference between map), reduce)', and 'filter) functions in Python?\n",
    "\n",
    "#Answer 10:\n",
    "\n",
    "# The map(), reduce(), and filter() functions in Python are all used for processing iterables, but they serve different purposes and operate in distinct ways. Here’s a breakdown of each function and their differences:\n",
    "\n",
    "# map():-\n",
    "#Purpose: The map() function applies a given function to each item of an iterable (or multiple iterables) and returns an iterator that produces the results.\n",
    "\n",
    "#Usage: It is used when you need to transform or process each item in an iterable.\n",
    "\n",
    "#Syntax: map(function, iterable, ...)\n",
    "\n",
    "#Returns: An iterator (which can be converted to a list or other collection type).\n",
    "\n",
    "#Example:\n",
    "numbers = [1, 2, 3, 4]\n",
    "squared = map(lambda x: x * x, numbers)\n",
    "print(list(squared))\n"
   ]
  },
  {
   "cell_type": "code",
   "execution_count": null,
   "metadata": {
    "colab": {
     "base_uri": "https://localhost:8080/"
    },
    "executionInfo": {
     "elapsed": 576,
     "status": "ok",
     "timestamp": 1723428009024,
     "user": {
      "displayName": "Shazil Parwez",
      "userId": "17294264299167245854"
     },
     "user_tz": -330
    },
    "id": "QuTZYL0yTxDs",
    "outputId": "4d1744cd-70c2-47c5-bf26-24a0c0fb7a92"
   },
   "outputs": [
    {
     "name": "stdout",
     "output_type": "stream",
     "text": [
      "[2, 4]\n"
     ]
    }
   ],
   "source": [
    "# filter():-\n",
    "#Purpose: The filter() function applies a given function (which should return a boolean value) to each item of an iterable and returns an iterator containing only the items for which the function returns True.\n",
    "\n",
    "#Usage: It is used when you need to filter out elements from an iterable based on a condition.\n",
    "\n",
    "#Syntax: filter(function, iterable)\n",
    "\n",
    "#Returns: An iterator containing elements that satisfy the condition specified by the function.\n",
    "\n",
    "#Example:\n",
    "\n",
    "numbers = [1, 2, 3, 4, 5]\n",
    "even_numbers = filter(lambda x: x % 2 == 0, numbers)\n",
    "print(list(even_numbers))"
   ]
  },
  {
   "cell_type": "code",
   "execution_count": null,
   "metadata": {
    "colab": {
     "base_uri": "https://localhost:8080/"
    },
    "executionInfo": {
     "elapsed": 482,
     "status": "ok",
     "timestamp": 1723428098586,
     "user": {
      "displayName": "Shazil Parwez",
      "userId": "17294264299167245854"
     },
     "user_tz": -330
    },
    "id": "6bVCfHuoUG7-",
    "outputId": "d7470053-276c-42bf-e9bb-b3c9d9ba83c7"
   },
   "outputs": [
    {
     "name": "stdout",
     "output_type": "stream",
     "text": [
      "24\n"
     ]
    }
   ],
   "source": [
    "# reduce()\n",
    "#Purpose: The reduce() function (from the functools module) performs a cumulative reduction of an iterable using a binary function. It applies the function cumulatively to the items of the iterable, from left to right, so as to reduce the iterable to a single value.\n",
    "\n",
    "#Usage: It is used when you need to combine or aggregate all elements of an iterable into a single result.\n",
    "\n",
    "#Syntax: reduce(function, iterable[, initializer])\n",
    "\n",
    "#Returns: A single value that is the result of the cumulative reduction.\n",
    "\n",
    "#Example:\n",
    "\n",
    "from functools import reduce\n",
    "\n",
    "numbers = [1, 2, 3, 4]\n",
    "product = reduce(lambda x, y: x * y, numbers)\n",
    "print(product)"
   ]
  },
  {
   "cell_type": "code",
   "execution_count": null,
   "metadata": {
    "colab": {
     "base_uri": "https://localhost:8080/",
     "height": 73
    },
    "executionInfo": {
     "elapsed": 273711,
     "status": "ok",
     "timestamp": 1723435916862,
     "user": {
      "displayName": "Shazil Parwez",
      "userId": "17294264299167245854"
     },
     "user_tz": -330
    },
    "id": "l0URIHA7UX_U",
    "outputId": "ccce7245-214d-4e46-f8b6-6e94c44c4c58"
   },
   "outputs": [
    {
     "data": {
      "text/html": [
       "\n",
       "     <input type=\"file\" id=\"files-e6c37eac-6083-4ab1-a686-05b273804423\" name=\"files[]\" multiple disabled\n",
       "        style=\"border:none\" />\n",
       "     <output id=\"result-e6c37eac-6083-4ab1-a686-05b273804423\">\n",
       "      Upload widget is only available when the cell has been executed in the\n",
       "      current browser session. Please rerun this cell to enable.\n",
       "      </output>\n",
       "      <script>// Copyright 2017 Google LLC\n",
       "//\n",
       "// Licensed under the Apache License, Version 2.0 (the \"License\");\n",
       "// you may not use this file except in compliance with the License.\n",
       "// You may obtain a copy of the License at\n",
       "//\n",
       "//      http://www.apache.org/licenses/LICENSE-2.0\n",
       "//\n",
       "// Unless required by applicable law or agreed to in writing, software\n",
       "// distributed under the License is distributed on an \"AS IS\" BASIS,\n",
       "// WITHOUT WARRANTIES OR CONDITIONS OF ANY KIND, either express or implied.\n",
       "// See the License for the specific language governing permissions and\n",
       "// limitations under the License.\n",
       "\n",
       "/**\n",
       " * @fileoverview Helpers for google.colab Python module.\n",
       " */\n",
       "(function(scope) {\n",
       "function span(text, styleAttributes = {}) {\n",
       "  const element = document.createElement('span');\n",
       "  element.textContent = text;\n",
       "  for (const key of Object.keys(styleAttributes)) {\n",
       "    element.style[key] = styleAttributes[key];\n",
       "  }\n",
       "  return element;\n",
       "}\n",
       "\n",
       "// Max number of bytes which will be uploaded at a time.\n",
       "const MAX_PAYLOAD_SIZE = 100 * 1024;\n",
       "\n",
       "function _uploadFiles(inputId, outputId) {\n",
       "  const steps = uploadFilesStep(inputId, outputId);\n",
       "  const outputElement = document.getElementById(outputId);\n",
       "  // Cache steps on the outputElement to make it available for the next call\n",
       "  // to uploadFilesContinue from Python.\n",
       "  outputElement.steps = steps;\n",
       "\n",
       "  return _uploadFilesContinue(outputId);\n",
       "}\n",
       "\n",
       "// This is roughly an async generator (not supported in the browser yet),\n",
       "// where there are multiple asynchronous steps and the Python side is going\n",
       "// to poll for completion of each step.\n",
       "// This uses a Promise to block the python side on completion of each step,\n",
       "// then passes the result of the previous step as the input to the next step.\n",
       "function _uploadFilesContinue(outputId) {\n",
       "  const outputElement = document.getElementById(outputId);\n",
       "  const steps = outputElement.steps;\n",
       "\n",
       "  const next = steps.next(outputElement.lastPromiseValue);\n",
       "  return Promise.resolve(next.value.promise).then((value) => {\n",
       "    // Cache the last promise value to make it available to the next\n",
       "    // step of the generator.\n",
       "    outputElement.lastPromiseValue = value;\n",
       "    return next.value.response;\n",
       "  });\n",
       "}\n",
       "\n",
       "/**\n",
       " * Generator function which is called between each async step of the upload\n",
       " * process.\n",
       " * @param {string} inputId Element ID of the input file picker element.\n",
       " * @param {string} outputId Element ID of the output display.\n",
       " * @return {!Iterable<!Object>} Iterable of next steps.\n",
       " */\n",
       "function* uploadFilesStep(inputId, outputId) {\n",
       "  const inputElement = document.getElementById(inputId);\n",
       "  inputElement.disabled = false;\n",
       "\n",
       "  const outputElement = document.getElementById(outputId);\n",
       "  outputElement.innerHTML = '';\n",
       "\n",
       "  const pickedPromise = new Promise((resolve) => {\n",
       "    inputElement.addEventListener('change', (e) => {\n",
       "      resolve(e.target.files);\n",
       "    });\n",
       "  });\n",
       "\n",
       "  const cancel = document.createElement('button');\n",
       "  inputElement.parentElement.appendChild(cancel);\n",
       "  cancel.textContent = 'Cancel upload';\n",
       "  const cancelPromise = new Promise((resolve) => {\n",
       "    cancel.onclick = () => {\n",
       "      resolve(null);\n",
       "    };\n",
       "  });\n",
       "\n",
       "  // Wait for the user to pick the files.\n",
       "  const files = yield {\n",
       "    promise: Promise.race([pickedPromise, cancelPromise]),\n",
       "    response: {\n",
       "      action: 'starting',\n",
       "    }\n",
       "  };\n",
       "\n",
       "  cancel.remove();\n",
       "\n",
       "  // Disable the input element since further picks are not allowed.\n",
       "  inputElement.disabled = true;\n",
       "\n",
       "  if (!files) {\n",
       "    return {\n",
       "      response: {\n",
       "        action: 'complete',\n",
       "      }\n",
       "    };\n",
       "  }\n",
       "\n",
       "  for (const file of files) {\n",
       "    const li = document.createElement('li');\n",
       "    li.append(span(file.name, {fontWeight: 'bold'}));\n",
       "    li.append(span(\n",
       "        `(${file.type || 'n/a'}) - ${file.size} bytes, ` +\n",
       "        `last modified: ${\n",
       "            file.lastModifiedDate ? file.lastModifiedDate.toLocaleDateString() :\n",
       "                                    'n/a'} - `));\n",
       "    const percent = span('0% done');\n",
       "    li.appendChild(percent);\n",
       "\n",
       "    outputElement.appendChild(li);\n",
       "\n",
       "    const fileDataPromise = new Promise((resolve) => {\n",
       "      const reader = new FileReader();\n",
       "      reader.onload = (e) => {\n",
       "        resolve(e.target.result);\n",
       "      };\n",
       "      reader.readAsArrayBuffer(file);\n",
       "    });\n",
       "    // Wait for the data to be ready.\n",
       "    let fileData = yield {\n",
       "      promise: fileDataPromise,\n",
       "      response: {\n",
       "        action: 'continue',\n",
       "      }\n",
       "    };\n",
       "\n",
       "    // Use a chunked sending to avoid message size limits. See b/62115660.\n",
       "    let position = 0;\n",
       "    do {\n",
       "      const length = Math.min(fileData.byteLength - position, MAX_PAYLOAD_SIZE);\n",
       "      const chunk = new Uint8Array(fileData, position, length);\n",
       "      position += length;\n",
       "\n",
       "      const base64 = btoa(String.fromCharCode.apply(null, chunk));\n",
       "      yield {\n",
       "        response: {\n",
       "          action: 'append',\n",
       "          file: file.name,\n",
       "          data: base64,\n",
       "        },\n",
       "      };\n",
       "\n",
       "      let percentDone = fileData.byteLength === 0 ?\n",
       "          100 :\n",
       "          Math.round((position / fileData.byteLength) * 100);\n",
       "      percent.textContent = `${percentDone}% done`;\n",
       "\n",
       "    } while (position < fileData.byteLength);\n",
       "  }\n",
       "\n",
       "  // All done.\n",
       "  yield {\n",
       "    response: {\n",
       "      action: 'complete',\n",
       "    }\n",
       "  };\n",
       "}\n",
       "\n",
       "scope.google = scope.google || {};\n",
       "scope.google.colab = scope.google.colab || {};\n",
       "scope.google.colab._files = {\n",
       "  _uploadFiles,\n",
       "  _uploadFilesContinue,\n",
       "};\n",
       "})(self);\n",
       "</script> "
      ],
      "text/plain": [
       "<IPython.core.display.HTML object>"
      ]
     },
     "metadata": {},
     "output_type": "display_data"
    },
    {
     "name": "stdout",
     "output_type": "stream",
     "text": [
      "Saving IMG_5945.png to IMG_5945.png\n"
     ]
    }
   ],
   "source": [
    "# 11.Using pen & Paper write the internal mechanism for sum operation using reduce function on this given list: [47,11,42,13].\n",
    "\n",
    "from google.colab import files\n",
    "from IPython.display import Image\n",
    "uploaded = files.upload()"
   ]
  },
  {
   "cell_type": "code",
   "execution_count": null,
   "metadata": {
    "colab": {
     "base_uri": "https://localhost:8080/",
     "height": 1000,
     "output_embedded_package_id": "1IMtJjnVQsoBNLU8KjabsgnCWcvEa4MhY"
    },
    "executionInfo": {
     "elapsed": 22460,
     "status": "ok",
     "timestamp": 1723435951662,
     "user": {
      "displayName": "Shazil Parwez",
      "userId": "17294264299167245854"
     },
     "user_tz": -330
    },
    "id": "zr_oBgs7wnut",
    "outputId": "81fd9a32-2f60-45e4-eb25-6d067873e0f7"
   },
   "outputs": [
    {
     "data": {
      "text/plain": [
       "Output hidden; open in https://colab.research.google.com to view."
      ]
     },
     "metadata": {},
     "output_type": "display_data"
    }
   ],
   "source": [
    "Image(\"IMG_5945.png\")"
   ]
  },
  {
   "cell_type": "markdown",
   "metadata": {
    "id": "-UdjECPYe_DT"
   },
   "source": [
    "## Practical Questions:"
   ]
  },
  {
   "cell_type": "code",
   "execution_count": null,
   "metadata": {
    "colab": {
     "base_uri": "https://localhost:8080/"
    },
    "executionInfo": {
     "elapsed": 20,
     "status": "ok",
     "timestamp": 1723515480576,
     "user": {
      "displayName": "Shazil Parwez",
      "userId": "17294264299167245854"
     },
     "user_tz": -330
    },
    "id": "2xv1EYjYfWsd",
    "outputId": "befe39aa-c275-4591-ed15-8b5db29be24c"
   },
   "outputs": [
    {
     "name": "stdout",
     "output_type": "stream",
     "text": [
      "30\n"
     ]
    }
   ],
   "source": [
    "# 1.Write a Python function that takes a list of numbers as input and returns the sum of all even numbers in the list.\n",
    "\n",
    "#Answer 1:\n",
    "\n",
    "def sum_even_numbers(numbers):\n",
    "    sum_of_even = 0\n",
    "    for num in numbers:\n",
    "        if num % 2 == 0:\n",
    "            sum_of_even += num\n",
    "    return sum_of_even\n",
    "\n",
    "numbers = [1, 2, 3, 4, 5, 6, 7, 8, 9, 10]\n",
    "result = sum_even_numbers(numbers)\n",
    "print(result)"
   ]
  },
  {
   "cell_type": "code",
   "execution_count": null,
   "metadata": {
    "colab": {
     "base_uri": "https://localhost:8080/"
    },
    "executionInfo": {
     "elapsed": 560,
     "status": "ok",
     "timestamp": 1723515694606,
     "user": {
      "displayName": "Shazil Parwez",
      "userId": "17294264299167245854"
     },
     "user_tz": -330
    },
    "id": "SlSfifDjhs04",
    "outputId": "600971c7-9c67-4dec-f02c-01eadeb26c96"
   },
   "outputs": [
    {
     "name": "stdout",
     "output_type": "stream",
     "text": [
      " tseB si sllikS hallaW scisyhP tseW rO tsaE  \n"
     ]
    }
   ],
   "source": [
    "# 2.Create a Python function that accepts a string and returns the reverse of that string.\n",
    "\n",
    "#Answer 2:\n",
    "\n",
    "def reverse_string(input_string):\n",
    "    reversed_string =\" \"\n",
    "    for char in input_string:\n",
    "        reversed_string = char + reversed_string\n",
    "    return reversed_string\n",
    "\n",
    "input_string = \" East Or West Physics Wallah Skills is Best \"\n",
    "result = reverse_string(input_string)\n",
    "print(result)\n"
   ]
  },
  {
   "cell_type": "code",
   "execution_count": null,
   "metadata": {
    "colab": {
     "base_uri": "https://localhost:8080/"
    },
    "executionInfo": {
     "elapsed": 547,
     "status": "ok",
     "timestamp": 1723515794964,
     "user": {
      "displayName": "Shazil Parwez",
      "userId": "17294264299167245854"
     },
     "user_tz": -330
    },
    "id": "uOXPbXOPiZfs",
    "outputId": "a808b6cc-de60-4dee-8d49-c0497be80071"
   },
   "outputs": [
    {
     "name": "stdout",
     "output_type": "stream",
     "text": [
      "[1, 4, 9, 16, 25]\n"
     ]
    }
   ],
   "source": [
    "# 3.Implement a Python function that takes a list of integers and returns a new list containing the squares of each number.\n",
    "\n",
    "#Answer 3:\n",
    "\n",
    "def square_numbers(numbers):\n",
    "    squared_numbers = []\n",
    "    for num in numbers:\n",
    "        squared_numbers.append(num ** 2)\n",
    "    return squared_numbers\n",
    "\n",
    "numbers = [1, 2, 3, 4, 5]\n",
    "result = square_numbers(numbers)\n",
    "print(result)"
   ]
  },
  {
   "cell_type": "code",
   "execution_count": null,
   "metadata": {
    "colab": {
     "base_uri": "https://localhost:8080/"
    },
    "executionInfo": {
     "elapsed": 618,
     "status": "ok",
     "timestamp": 1723516093166,
     "user": {
      "displayName": "Shazil Parwez",
      "userId": "17294264299167245854"
     },
     "user_tz": -330
    },
    "id": "rJIR2vcHi9Eh",
    "outputId": "83600fbb-4d65-4958-ac37-a67ee9cf6324"
   },
   "outputs": [
    {
     "name": "stdout",
     "output_type": "stream",
     "text": [
      "29 is a prime number.\n"
     ]
    }
   ],
   "source": [
    "# 4.Write a Python function that checks if a given number is prime or not from 1 to 200.\n",
    "\n",
    "#Answer 4:\n",
    "\n",
    "def is_prime(number):\n",
    "    if number < 2:\n",
    "        return False\n",
    "    for i in range(2, int(number ** 0.5) + 1):\n",
    "        if number % i == 0:\n",
    "            return False\n",
    "    return True\n",
    "\n",
    "number = 29\n",
    "if is_prime(number):\n",
    "    print(f\"{number} is a prime number.\")\n",
    "else:\n",
    "    print(f\"{number} is not a prime number.\")"
   ]
  },
  {
   "cell_type": "code",
   "execution_count": null,
   "metadata": {
    "colab": {
     "base_uri": "https://localhost:8080/"
    },
    "executionInfo": {
     "elapsed": 591,
     "status": "ok",
     "timestamp": 1723516767093,
     "user": {
      "displayName": "Shazil Parwez",
      "userId": "17294264299167245854"
     },
     "user_tz": -330
    },
    "id": "PDbN8WWilYER",
    "outputId": "97da885b-b469-48f4-8146-f6dd1d854d97"
   },
   "outputs": [
    {
     "name": "stdout",
     "output_type": "stream",
     "text": [
      "0\n",
      "1\n",
      "1\n",
      "2\n",
      "3\n",
      "5\n",
      "8\n",
      "13\n",
      "21\n",
      "34\n"
     ]
    }
   ],
   "source": [
    "# 5.Create an iterator class in Python that generates the Fibonacci sequence up to a specified number of terms.\n",
    "\n",
    "#Answer 5:\n",
    "\n",
    "class FibonacciIterator:\n",
    "    def __init__(self, num_terms):\n",
    "        if num_terms < 1:\n",
    "            raise ValueError(\"Number of terms must be at least 1\")\n",
    "        self.num_terms = num_terms\n",
    "        self.current_term = 0\n",
    "        self.a, self.b = 0, 1\n",
    "\n",
    "    def __iter__(self):\n",
    "        return self\n",
    "    def __next__(self):\n",
    "        if self.current_term >= self.num_terms:\n",
    "            raise StopIteration\n",
    "\n",
    "        # Generate the next Fibonacci number\n",
    "        fib_number = self.a\n",
    "        self.a, self.b = self.b, self.a + self.b\n",
    "        self.current_term += 1\n",
    "\n",
    "        return fib_number\n",
    "\n",
    "num_terms = 10\n",
    "fibonacci_iterator = FibonacciIterator(num_terms)\n",
    "for number in fibonacci_iterator:\n",
    "    print(number)"
   ]
  },
  {
   "cell_type": "code",
   "execution_count": null,
   "metadata": {
    "colab": {
     "base_uri": "https://localhost:8080/"
    },
    "executionInfo": {
     "elapsed": 836,
     "status": "ok",
     "timestamp": 1723516846835,
     "user": {
      "displayName": "Shazil Parwez",
      "userId": "17294264299167245854"
     },
     "user_tz": -330
    },
    "id": "ZowYUpEGmsYJ",
    "outputId": "38a68686-41d8-496b-ace4-a8ce1d820215"
   },
   "outputs": [
    {
     "name": "stdout",
     "output_type": "stream",
     "text": [
      "1\n",
      "2\n",
      "4\n",
      "8\n",
      "16\n",
      "32\n"
     ]
    }
   ],
   "source": [
    "# 6.Write a generator function in Python that yields the powers of 2 up to a given exponent.\n",
    "\n",
    "#Answer 6:\n",
    "\n",
    "def power_of_two(exponent):\n",
    "    for i in range(exponent + 1):\n",
    "        yield 2 ** i\n",
    "\n",
    "exponent = 5\n",
    "power_generator = power_of_two(exponent)\n",
    "for power in power_generator:\n",
    "    print(power)"
   ]
  },
  {
   "cell_type": "code",
   "execution_count": null,
   "metadata": {
    "id": "anDyww-4e831"
   },
   "outputs": [],
   "source": [
    "# 7.Implement a generator function that reads a file line by line and yields each line as a string.\n",
    "\n",
    "#Answer 7:\n",
    "\n",
    "def read_file_lines(file_path):\n",
    "    \"\"\"Generator function to read a file line by line and yield each line.\"\"\"\n",
    "    try:\n",
    "        with open(file_path, 'r') as file:\n",
    "            for line in file:\n",
    "                yield line.rstrip('\\n')  # Strip only the newline character at the end of each line\n",
    "    except FileNotFoundError:\n",
    "        print(f\"Error: The file '{file_path}' does not exist.\")\n",
    "    except IOError as e:\n",
    "        print(f\"Error: An IOError occurred. Details: {e}\")\n",
    "\n",
    "# Example usage\n",
    "if __name__ == \"__main__\":\n",
    "    file_path = 'example.txt'  # Replace with the path to your file\n",
    "    for line in read_file_lines(file_path):\n",
    "        print(line)\n",
    "\n",
    "#Output(if attached file has 5 lines in total):\n",
    "# line 1\n",
    "# line 2\n",
    "# line 3\n",
    "# line 4\n",
    "# line 5"
   ]
  },
  {
   "cell_type": "code",
   "execution_count": null,
   "metadata": {
    "colab": {
     "base_uri": "https://localhost:8080/"
    },
    "executionInfo": {
     "elapsed": 580,
     "status": "ok",
     "timestamp": 1723517569144,
     "user": {
      "displayName": "Shazil Parwez",
      "userId": "17294264299167245854"
     },
     "user_tz": -330
    },
    "id": "tnDRoordnqR9",
    "outputId": "adbc310b-894d-4a83-d81f-3ffdf304c3fd"
   },
   "outputs": [
    {
     "name": "stdout",
     "output_type": "stream",
     "text": [
      "[(4, 1), (3, 2), (1, 5), (2, 8)]\n"
     ]
    }
   ],
   "source": [
    "# 8.Use a lambda function in Python to sort a list of tuples based on the second element of each tuple.\n",
    "\n",
    "#Answer 8:\n",
    "\n",
    "tuples_list = [(1, 5), (3, 2), (2, 8), (4, 1)]\n",
    "sorted_list = sorted(tuples_list, key=lambda x: x[1])\n",
    "print(sorted_list)\n"
   ]
  },
  {
   "cell_type": "code",
   "execution_count": null,
   "metadata": {
    "colab": {
     "base_uri": "https://localhost:8080/"
    },
    "executionInfo": {
     "elapsed": 602,
     "status": "ok",
     "timestamp": 1723517703578,
     "user": {
      "displayName": "Shazil Parwez",
      "userId": "17294264299167245854"
     },
     "user_tz": -330
    },
    "id": "mL2d8BxvpwMG",
    "outputId": "e636bfea-bab6-4fa3-b136-2f9275c52c9c"
   },
   "outputs": [
    {
     "name": "stdout",
     "output_type": "stream",
     "text": [
      "[32.0, 50.0, 68.0, 86.0, 104.0]\n"
     ]
    }
   ],
   "source": [
    "# 9.Write a Python program that uses map to convert a list of temperatures from Celsius to Fahrenheit.\n",
    "\n",
    "#Answer 9:\n",
    "\n",
    "celsius_temperatures = [0, 10, 20, 30, 40]\n",
    "fahrenheit_temperatures = list(map(lambda c: (c * 9/5) + 32, celsius_temperatures))\n",
    "print(fahrenheit_temperatures)"
   ]
  },
  {
   "cell_type": "code",
   "execution_count": null,
   "metadata": {
    "colab": {
     "base_uri": "https://localhost:8080/"
    },
    "executionInfo": {
     "elapsed": 598,
     "status": "ok",
     "timestamp": 1723518042378,
     "user": {
      "displayName": "Shazil Parwez",
      "userId": "17294264299167245854"
     },
     "user_tz": -330
    },
    "id": "T9-iTeBGqLGW",
    "outputId": "e2e1bfa9-c791-4cfe-8402-d5e045032d06"
   },
   "outputs": [
    {
     "name": "stdout",
     "output_type": "stream",
     "text": [
      "Original string: east or west pwskills is best\n",
      "String without vowels: st r wst pwsklls s bst\n"
     ]
    }
   ],
   "source": [
    "# 10.Create a Python program that uses filter to remove all the vowels from a given string.\n",
    "\n",
    "#Answer 10:\n",
    "\n",
    "def is_not_vowel(char):\n",
    "    return char.lower() not in 'aeiou'\n",
    "\n",
    "def remove_vowels(input_string):\n",
    "    filtered_chars = filter(is_not_vowel, input_string)\n",
    "    return ''.join(filtered_chars)\n",
    "\n",
    "input_string = \"east or west pwskills is best\"\n",
    "result_string = remove_vowels(input_string)\n",
    "print(\"Original string:\", input_string)\n",
    "print(\"String without vowels:\", result_string)\n",
    "\n",
    "\n"
   ]
  },
  {
   "cell_type": "markdown",
   "metadata": {
    "id": "LUPPWgKVLytd"
   },
   "source": [
    "11.Imagine an accounting routine used in a book shop. It works on a list with sublists, which look like this:\n",
    "\n",
    "      Order Number       Book Title and Author             Quantity       Price per Item                                                             \n",
    "      34587              Learning Python, Mark Lutz             4           40.95\n",
    "      98762              Programming Python, Mark Lutz          5           56.80\n",
    "      77226              Head First Python, Paul Barry          3           32.95\n",
    "      88112              Einführung in Python3, Bernd Klein     3           24.99"
   ]
  },
  {
   "cell_type": "code",
   "execution_count": null,
   "metadata": {
    "colab": {
     "base_uri": "https://localhost:8080/"
    },
    "executionInfo": {
     "elapsed": 662,
     "status": "ok",
     "timestamp": 1723527396108,
     "user": {
      "displayName": "Shazil Parwez",
      "userId": "17294264299167245854"
     },
     "user_tz": -330
    },
    "id": "TslA09eJMmYm",
    "outputId": "242fc15f-53de-4cfd-c04c-3516a86ec0f4"
   },
   "outputs": [
    {
     "name": "stdout",
     "output_type": "stream",
     "text": [
      "[(34587, 163.8), (98762, 284.0), (77226, 108.85000000000001), (88112, 84.97)]\n"
     ]
    }
   ],
   "source": [
    "# Write a Python program, which returns a list with 2-tuples. Each tuple consists of the order number and the product of the price per item and the quantity. The product should be increased by 10,- € if the value of the order is smaller than 100,00 €.\n",
    "\n",
    "#Answer 11:\n",
    "\n",
    "def calculate_order_totals(order_data):\n",
    "    results = []\n",
    "    for order in order_data:\n",
    "        order_number, quantity, price_per_item = order\n",
    "        # Calculate the total cost\n",
    "        total_cost = quantity * price_per_item\n",
    "\n",
    "        # Adjust the total cost if it's less than 100 €\n",
    "        if total_cost < 100:\n",
    "            total_cost += 10\n",
    "        results.append((order_number, total_cost))\n",
    "    return results\n",
    "\n",
    "# Given data in question\n",
    "order_data = [\n",
    "    [34587, 4, 40.95],\n",
    "    [98762, 5, 56.80],\n",
    "    [77226, 3, 32.95],\n",
    "    [88112, 3, 24.99]\n",
    "]\n",
    "\n",
    "result = calculate_order_totals(order_data)\n",
    "print(result)\n"
   ]
  },
  {
   "cell_type": "code",
   "execution_count": null,
   "metadata": {
    "colab": {
     "base_uri": "https://localhost:8080/"
    },
    "executionInfo": {
     "elapsed": 590,
     "status": "ok",
     "timestamp": 1723527851275,
     "user": {
      "displayName": "Shazil Parwez",
      "userId": "17294264299167245854"
     },
     "user_tz": -330
    },
    "id": "tNy9dNYNPPUR",
    "outputId": "db75e7df-2198-4993-e7d2-5017694bcfaa"
   },
   "outputs": [
    {
     "name": "stdout",
     "output_type": "stream",
     "text": [
      "[(34587, 163.8), (98762, 284.0), (77226, 108.85000000000001), (88112, 84.97)]\n"
     ]
    }
   ],
   "source": [
    "# Write a Python program using lambda and map.\n",
    "\n",
    "#Answer 11:\n",
    "\n",
    "# Given data in question\n",
    "order_data = [\n",
    "    [34587, 4, 40.95],\n",
    "    [98762, 5, 56.80],\n",
    "    [77226, 3, 32.95],\n",
    "    [88112, 3, 24.99]\n",
    "]\n",
    "\n",
    "# Lambda and map function to calculate total cost with adjustment\n",
    "calculate_total = lambda order: (\n",
    "    order[0],\n",
    "    (order[1] * order[2] + 10) if (order[1] * order[2]) < 100 else (order[1] * order[2])\n",
    ")\n",
    "\n",
    "result = list(map(calculate_total, order_data))\n",
    "print(result)\n"
   ]
  },
  {
   "cell_type": "code",
   "execution_count": null,
   "metadata": {
    "id": "6jO1ybQWQ-db"
   },
   "outputs": [],
   "source": []
  }
 ],
 "metadata": {
  "colab": {
   "authorship_tag": "ABX9TyPEBd08f4oUeSTR+M0bExkN",
   "provenance": []
  },
  "kernelspec": {
   "display_name": "Python 3 (ipykernel)",
   "language": "python",
   "name": "python3"
  },
  "language_info": {
   "codemirror_mode": {
    "name": "ipython",
    "version": 3
   },
   "file_extension": ".py",
   "mimetype": "text/x-python",
   "name": "python",
   "nbconvert_exporter": "python",
   "pygments_lexer": "ipython3",
   "version": "3.10.8"
  }
 },
 "nbformat": 4,
 "nbformat_minor": 4
}
